{
 "cells": [
  {
   "cell_type": "code",
   "execution_count": null,
   "id": "07d66bfb",
   "metadata": {
    "scrolled": true
   },
   "outputs": [
    {
     "name": "stdout",
     "output_type": "stream",
     "text": [
      " * Serving Flask app \"__main__\" (lazy loading)\n",
      " * Environment: production\n",
      "   WARNING: This is a development server. Do not use it in a production deployment.\n",
      "   Use a production WSGI server instead.\n",
      " * Debug mode: on\n"
     ]
    },
    {
     "name": "stderr",
     "output_type": "stream",
     "text": [
      " * Running on http://127.0.0.1:5000/ (Press CTRL+C to quit)\n",
      "127.0.0.1 - - [02/Jul/2021 18:49:50] \"\u001b[37mGET / HTTP/1.1\u001b[0m\" 200 -\n",
      "127.0.0.1 - - [02/Jul/2021 18:49:54] \"\u001b[37mPOST /predict HTTP/1.1\u001b[0m\" 200 -\n",
      "127.0.0.1 - - [02/Jul/2021 18:49:59] \"\u001b[37mPOST /predict HTTP/1.1\u001b[0m\" 200 -\n",
      "127.0.0.1 - - [02/Jul/2021 18:50:00] \"\u001b[37mGET /static/images/virginica.jpg HTTP/1.1\u001b[0m\" 200 -\n",
      "127.0.0.1 - - [02/Jul/2021 18:50:28] \"\u001b[37mPOST /predict HTTP/1.1\u001b[0m\" 200 -\n",
      "127.0.0.1 - - [02/Jul/2021 18:50:55] \"\u001b[37mPOST /predict HTTP/1.1\u001b[0m\" 200 -\n",
      "127.0.0.1 - - [02/Jul/2021 18:50:55] \"\u001b[37mGET /static/styles/styles.css HTTP/1.1\u001b[0m\" 200 -\n",
      "127.0.0.1 - - [02/Jul/2021 18:50:55] \"\u001b[37mGET /static/images/versicolor.jpg HTTP/1.1\u001b[0m\" 200 -\n",
      "127.0.0.1 - - [02/Jul/2021 18:50:55] \"\u001b[33mGET /favicon.ico HTTP/1.1\u001b[0m\" 404 -\n",
      "127.0.0.1 - - [02/Jul/2021 18:51:15] \"\u001b[37mPOST /predict HTTP/1.1\u001b[0m\" 200 -\n",
      "127.0.0.1 - - [02/Jul/2021 18:51:15] \"\u001b[37mGET /static/styles/styles.css HTTP/1.1\u001b[0m\" 200 -\n",
      "127.0.0.1 - - [02/Jul/2021 18:51:15] \"\u001b[37mGET /static/images/versicolor.jpg HTTP/1.1\u001b[0m\" 200 -\n",
      "127.0.0.1 - - [02/Jul/2021 18:51:15] \"\u001b[33mGET /favicon.ico HTTP/1.1\u001b[0m\" 404 -\n",
      "127.0.0.1 - - [02/Jul/2021 18:52:11] \"\u001b[37mPOST /predict HTTP/1.1\u001b[0m\" 200 -\n",
      "127.0.0.1 - - [02/Jul/2021 18:52:23] \"\u001b[37mGET / HTTP/1.1\u001b[0m\" 200 -\n",
      "127.0.0.1 - - [02/Jul/2021 18:52:27] \"\u001b[37mPOST /predict HTTP/1.1\u001b[0m\" 200 -\n",
      "127.0.0.1 - - [02/Jul/2021 18:53:17] \"\u001b[37mGET / HTTP/1.1\u001b[0m\" 200 -\n",
      "127.0.0.1 - - [02/Jul/2021 18:56:56] \"\u001b[37mGET / HTTP/1.1\u001b[0m\" 200 -\n",
      "127.0.0.1 - - [02/Jul/2021 18:57:17] \"\u001b[37mPOST /predict HTTP/1.1\u001b[0m\" 200 -\n",
      "127.0.0.1 - - [02/Jul/2021 18:57:28] \"\u001b[37mPOST /predict HTTP/1.1\u001b[0m\" 200 -\n",
      "127.0.0.1 - - [02/Jul/2021 18:57:33] \"\u001b[37mPOST /predict HTTP/1.1\u001b[0m\" 200 -\n",
      "127.0.0.1 - - [02/Jul/2021 18:57:37] \"\u001b[37mPOST /predict HTTP/1.1\u001b[0m\" 200 -\n",
      "127.0.0.1 - - [02/Jul/2021 18:57:45] \"\u001b[37mPOST /predict HTTP/1.1\u001b[0m\" 200 -\n"
     ]
    }
   ],
   "source": [
    "import numpy as np\n",
    "from flask import Flask, request, render_template\n",
    "import joblib\n",
    "from joblib import load\n",
    "from sklearn.neighbors import KNeighborsClassifier\n",
    "import os\n",
    "prediction_text=\"Enter the measurements and click 'predict'!\"\n",
    "images_folder=os.path.join('static', 'images')\n",
    "app=Flask(__name__)\n",
    "app.config['UPLOAD_FOLDER'] = images_folder\n",
    "\n",
    "model=load('model.joblib')\n",
    "\n",
    "@app.route('/')\n",
    "def home():\n",
    "    return render_template('index.html')\n",
    "@app.route('/predict', methods=['POST'])\n",
    "def predict():\n",
    "    features=[float(x) for x in request.form.values()]\n",
    "    final_features=[np.array(features)]\n",
    "    prediction=model.predict(final_features)\n",
    "    pred_round=round(prediction[0])\n",
    "    output=\"\"\n",
    "    if pred_round==0:\n",
    "        output+=\"Setosa\"\n",
    "        file = os.path.join(app.config['UPLOAD_FOLDER'], 'setosa.jpg')\n",
    "    elif pred_round==1:\n",
    "        output+=\"Versicolor\"\n",
    "        file = os.path.join(app.config['UPLOAD_FOLDER'], 'versicolor.jpg')\n",
    "    else:\n",
    "        output+=\"Virginica\"\n",
    "        file = os.path.join(app.config['UPLOAD_FOLDER'], 'virginica.jpg')\n",
    "\n",
    "    return render_template('index.html', prediction_text='This iris flower is {}'.format(output),\n",
    "                           iris=file\n",
    "                          )\n",
    "if __name__==\"__main__\":\n",
    "    app.run(port=5000, debug=True, use_reloader=False)\n"
   ]
  },
  {
   "cell_type": "code",
   "execution_count": 2,
   "id": "14ffaaae",
   "metadata": {},
   "outputs": [
    {
     "name": "stderr",
     "output_type": "stream",
     "text": [
      "[NbConvertApp] Converting notebook Deployment_flask.ipynb to script\n",
      "[NbConvertApp] Writing 989 bytes to Deployment_flask.py\n"
     ]
    }
   ],
   "source": [
    "!jupyter nbconvert Deployment_flask.ipynb --to script"
   ]
  },
  {
   "cell_type": "code",
   "execution_count": null,
   "id": "85c3b76c",
   "metadata": {},
   "outputs": [],
   "source": []
  }
 ],
 "metadata": {
  "kernelspec": {
   "display_name": "Python 3",
   "language": "python",
   "name": "python3"
  },
  "language_info": {
   "codemirror_mode": {
    "name": "ipython",
    "version": 3
   },
   "file_extension": ".py",
   "mimetype": "text/x-python",
   "name": "python",
   "nbconvert_exporter": "python",
   "pygments_lexer": "ipython3",
   "version": "3.8.8"
  }
 },
 "nbformat": 4,
 "nbformat_minor": 5
}
