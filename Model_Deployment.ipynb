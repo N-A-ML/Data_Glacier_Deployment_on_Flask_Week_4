{
 "cells": [
  {
   "cell_type": "code",
   "execution_count": 1,
   "id": "134c486b",
   "metadata": {},
   "outputs": [],
   "source": [
    "import flask\n",
    "import pickle"
   ]
  },
  {
   "cell_type": "code",
   "execution_count": 2,
   "id": "14561b5f",
   "metadata": {},
   "outputs": [],
   "source": [
    "from sklearn import datasets\n",
    "import pandas as pd\n",
    "data=datasets.load_iris()\n",
    "df = pd.DataFrame(data.data,columns=data.feature_names)\n",
    "df['target']=data['target']"
   ]
  },
  {
   "cell_type": "code",
   "execution_count": 3,
   "id": "1014e4e6",
   "metadata": {},
   "outputs": [],
   "source": [
    "X=df.loc[:,df.columns!=\"target\"] #let the feature dataframe contain every column of df, except the value we are predicting\n",
    "y=df.loc[:,df.columns==\"target\"].values.ravel() #let the target dataframe contain only the value we are predicting"
   ]
  },
  {
   "cell_type": "code",
   "execution_count": 4,
   "id": "9108cfd2",
   "metadata": {},
   "outputs": [],
   "source": [
    "from sklearn.model_selection import train_test_split\n",
    "from sklearn.model_selection import train_test_split\n",
    "X_train, X_test, y_train, y_test=train_test_split(X,y,test_size=0.25, shuffle=True)    "
   ]
  },
  {
   "cell_type": "code",
   "execution_count": 5,
   "id": "e4639a1a",
   "metadata": {},
   "outputs": [],
   "source": [
    "from sklearn.neighbors import KNeighborsClassifier\n",
    "from sklearn.metrics import accuracy_score\n",
    "knn = KNeighborsClassifier(n_neighbors=3)\n",
    "knn.fit(X, y)\n",
    "pred=knn.predict(X_test)\n",
    "acc=accuracy_score(y_test, pred)"
   ]
  },
  {
   "cell_type": "code",
   "execution_count": 10,
   "id": "f7601bf1",
   "metadata": {},
   "outputs": [
    {
     "data": {
      "text/plain": [
       "['model.joblib']"
      ]
     },
     "execution_count": 10,
     "metadata": {},
     "output_type": "execute_result"
    }
   ],
   "source": [
    "from joblib import dump, load\n",
    "dump(knn, 'model.joblib') "
   ]
  },
  {
   "cell_type": "code",
   "execution_count": 11,
   "id": "a8250b0c",
   "metadata": {},
   "outputs": [],
   "source": [
    "l_m = load('model.joblib') "
   ]
  },
  {
   "cell_type": "code",
   "execution_count": 12,
   "id": "084c6db5",
   "metadata": {},
   "outputs": [
    {
     "name": "stdout",
     "output_type": "stream",
     "text": [
      "KNeighborsClassifier(n_neighbors=3)\n"
     ]
    }
   ],
   "source": [
    "print(l_m)"
   ]
  }
 ],
 "metadata": {
  "kernelspec": {
   "display_name": "Python 3",
   "language": "python",
   "name": "python3"
  },
  "language_info": {
   "codemirror_mode": {
    "name": "ipython",
    "version": 3
   },
   "file_extension": ".py",
   "mimetype": "text/x-python",
   "name": "python",
   "nbconvert_exporter": "python",
   "pygments_lexer": "ipython3",
   "version": "3.8.8"
  }
 },
 "nbformat": 4,
 "nbformat_minor": 5
}
