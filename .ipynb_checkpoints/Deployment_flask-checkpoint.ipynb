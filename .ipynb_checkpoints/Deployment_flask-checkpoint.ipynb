{
 "cells": [
  {
   "cell_type": "code",
   "execution_count": 32,
   "id": "07d66bfb",
   "metadata": {
    "scrolled": true
   },
   "outputs": [
    {
     "name": "stdout",
     "output_type": "stream",
     "text": [
      " * Serving Flask app \"__main__\" (lazy loading)\n",
      " * Environment: production\n",
      "   WARNING: This is a development server. Do not use it in a production deployment.\n",
      "   Use a production WSGI server instead.\n",
      " * Debug mode: on\n"
     ]
    },
    {
     "name": "stderr",
     "output_type": "stream",
     "text": [
      " * Running on http://127.0.0.1:5000/ (Press CTRL+C to quit)\n",
      "127.0.0.1 - - [30/Jun/2021 22:51:03] \"\u001b[37mGET / HTTP/1.1\u001b[0m\" 200 -\n",
      "127.0.0.1 - - [30/Jun/2021 22:55:04] \"\u001b[37mPOST /predict HTTP/1.1\u001b[0m\" 200 -\n"
     ]
    }
   ],
   "source": [
    "import numpy as np\n",
    "from flask import Flask, request, render_template\n",
    "import joblib\n",
    "from joblib import load\n",
    "from sklearn.neighbors import KNeighborsClassifier\n",
    "\n",
    "app=Flask(__name__)\n",
    "model=load('model.joblib')\n",
    "\n",
    "@app.route('/')\n",
    "def home():\n",
    "    return render_template('index.html')\n",
    "@app.route('/predict', methods=['POST'])\n",
    "def predict():\n",
    "    features=[int(x) for x in request.form.values()]\n",
    "    final_features=[np.array(features)]\n",
    "    prediction=model.predict(final_features)\n",
    "    pred_round=round(prediction[0])\n",
    "    output=\"\"\n",
    "    if pred_round==0:\n",
    "        output+=\"Setosa\"\n",
    "    elif pred_round==1:\n",
    "        output+=\"Versicolor\"\n",
    "    else:\n",
    "        output+=\"Virginica\"\n",
    "        \n",
    "    return render_template('index.html', prediction_text='This iris flower is {}'.format(output))\n",
    "if __name__==\"__main__\":\n",
    "    app.run(port=5000, debug=True, use_reloader=False)\n"
   ]
  },
  {
   "cell_type": "code",
   "execution_count": 1,
   "id": "14ffaaae",
   "metadata": {},
   "outputs": [
    {
     "name": "stderr",
     "output_type": "stream",
     "text": [
      "[NbConvertApp] Converting notebook Deployment_flask.ipynb to script\n",
      "[NbConvertApp] Writing 1002 bytes to Deployment_flask.py\n"
     ]
    }
   ],
   "source": [
    "!jupyter nbconvert Deployment_flask.ipynb --to script"
   ]
  }
 ],
 "metadata": {
  "kernelspec": {
   "display_name": "Python 3",
   "language": "python",
   "name": "python3"
  },
  "language_info": {
   "codemirror_mode": {
    "name": "ipython",
    "version": 3
   },
   "file_extension": ".py",
   "mimetype": "text/x-python",
   "name": "python",
   "nbconvert_exporter": "python",
   "pygments_lexer": "ipython3",
   "version": "3.8.8"
  }
 },
 "nbformat": 4,
 "nbformat_minor": 5
}
